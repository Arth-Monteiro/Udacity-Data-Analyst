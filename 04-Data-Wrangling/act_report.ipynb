{
 "cells": [
  {
   "cell_type": "markdown",
   "id": "e8d7ec69",
   "metadata": {},
   "source": [
    "# WeRateDogs Analysis\n",
    "\n",
    "After collecting and cleaning some data from the tweets of [@dog_rates](https://twitter.com/dog_rates). I was able to make some analysis and discoverments that I thought inresting. On the next sections, I will present them. \n",
    "\n",
    "## Tweets per Year - Retweets and Favorites Metrics\n",
    "\n",
    "First of all, we must consider that the data used has the date range of 15th november of 2015 and 1st august of 2017. But interestingly, over the time, the number of tweets didn't increase so much. There isn't tweets for the same period for each year, but even than, how it's possible to see on the above chart, many of the tweets was made on 2015 (31%). The most part was made on 2016 (50%) and 2017 represents the lowest part (19%)."
   ]
  },
  {
   "cell_type": "markdown",
   "id": "43cec183",
   "metadata": {},
   "source": [
    "<img src=\"./imgs/tweets_per_year.png\" alt=\"Tweets Per Year\"/>"
   ]
  },
  {
   "cell_type": "markdown",
   "id": "212773bd",
   "metadata": {},
   "source": [
    "But with this data it's possible to see that this twitter user got very famous since even with less tweets he got more and more retweets and favorites. At Retweet Metrics, 2016 got more retweets than 2017 and 2015 (chart at first row and first column), but it's necessary to take the note that 50% of our data it's from 2016 and only 19% it's from 2017.\n",
    "\n",
    "With this in mind, I got the proportional count, that is, the total sum of retweets divided by the total count of tweets. And in this way, as the chart on the first column and second row, we see that in 2017 the number of retweets got REALLY higher. \n",
    "\n",
    "For the Favorite Metrics, at the second column, we see a different behavior for the absolute count (first row). There is more favorites in 2017 than in the other years, but for the proportional count (the total sum of favorites divided by the total count of tweets, displayed the the second row) we see the same exponential growth as the Retweet Metrics."
   ]
  },
  {
   "cell_type": "markdown",
   "id": "2f3a299c",
   "metadata": {},
   "source": [
    "<img src=\"./imgs/retweets_per_year.png\" alt=\"Retweets and Favorites Per Year\"/>"
   ]
  },
  {
   "cell_type": "markdown",
   "id": "92633906",
   "metadata": {},
   "source": [
    "## Top 10 Dog Breed Posted\n",
    "\n",
    "I got interested in which dog breed was the most posted on the user account. So, analysing the data, I got that from 117 dog breeds rated, Labrador Retriever was the one that appears with most frequency. Was 97 posts and this is a difference of almost 30 posts from the second one most posted, the Chihuahua, that appered 68 times across all the dataset. \n",
    "\n",
    "The third one, the Golden Retriever, was not so far from the second and appeared 67 times. The fourth until the last one has just a litte range of difference. Was 39 posts for the fourth and 36 times for the last one. "
   ]
  },
  {
   "cell_type": "markdown",
   "id": "6ba18a4d",
   "metadata": {},
   "source": [
    "<img src=\"./imgs/top_10_posted.png\" alt=\"Top 10 Dog Breed Posted\" />"
   ]
  },
  {
   "cell_type": "markdown",
   "id": "fb5db5b9",
   "metadata": {},
   "source": [
    "## Top 5 Dog Breed Metrics\n",
    "\n",
    "After the last topic, I was courious to know if the ones at top 10 dog posted was the ones with the best metrics (Rate, Retweet and Favorites). So, to be far, I divided this metrics by the total count of tweets per each dog breed. So the dog breed that was posted just once, now would have tha same odds that Labrador Retriever that was posted 97 times.\n",
    "\n",
    "On this way, my findings was the ones at the above charts."
   ]
  },
  {
   "cell_type": "markdown",
   "id": "37c8e1e1",
   "metadata": {},
   "source": [
    "<img src=\"./imgs/top_5_rated.png\" alt=\"Top 5 Dog Breed Best Rated\" />\n",
    "<img src=\"./imgs/top_5_retweeted.png\" alt=\"Top 5 Dog Breed Retweeted\" />\n",
    "<img src=\"./imgs/top_5_favorited.png\" alt=\"Top 5 Dog Breed Favorited\" />"
   ]
  },
  {
   "cell_type": "markdown",
   "id": "f071c425",
   "metadata": {},
   "source": [
    "And at the end, looks like that the public has different favorite breeds for different actions. The one with best rates was Bouvier Des Flandres, but the one that the account followers prefer to retweet as the Whippets. By the other hand, the breed that the public looks like to prefer favorite, it is the Dalmatian. \n",
    "\n",
    "At the end, was a lot of discovers."
   ]
  }
 ],
 "metadata": {
  "kernelspec": {
   "display_name": "Python 3 (ipykernel)",
   "language": "python",
   "name": "python3"
  },
  "language_info": {
   "codemirror_mode": {
    "name": "ipython",
    "version": 3
   },
   "file_extension": ".py",
   "mimetype": "text/x-python",
   "name": "python",
   "nbconvert_exporter": "python",
   "pygments_lexer": "ipython3",
   "version": "3.9.12"
  }
 },
 "nbformat": 4,
 "nbformat_minor": 5
}
